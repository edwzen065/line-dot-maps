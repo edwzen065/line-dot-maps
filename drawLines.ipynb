{
 "cells": [
  {
   "cell_type": "code",
   "execution_count": 86,
   "id": "6bfea10d-f64e-46b0-adc2-469714a485cd",
   "metadata": {},
   "outputs": [],
   "source": [
    "import numpy as np\n",
    "import matplotlib.pyplot as plt\n",
    "import rasterio\n",
    "from skimage.draw import line\n",
    "\n",
    "spacing = 2\n",
    "cutoff = 2.0\n",
    "\n",
    "def validEdges(arr, y, x):\n",
    "    edges = []\n",
    "    if arr[y+spacing][x]:\n",
    "        edges.append((y+spacing, x))\n",
    "    if arr[y-spacing][x]:\n",
    "        edges.append((y-spacing, x))\n",
    "    if arr[y][x+spacing]:\n",
    "        edges.append((y, x+spacing))\n",
    "    if arr[y][x-spacing]:\n",
    "        edges.append((y, x-spacing))\n",
    "    return edges\n",
    "\n",
    "def drawLines(arr, y, x):\n",
    "    tile = np.full(arr.shape, 0)\n",
    "    populatedEdges = validEdges(arr, y, x)\n",
    "    \n",
    "    if len(populatedEdges) == 2:\n",
    "        tile[line(populatedEdges[0][0], populatedEdges[0][1], populatedEdges[1][0], populatedEdges[1][1])] = 1\n",
    "    elif len(populatedEdges) > 2:\n",
    "        for edge in populatedEdges:\n",
    "            tile[line(edge[0], edge[1], y, x)] = 1\n",
    "        \n",
    "    return tile\n",
    "\n",
    "def tileCoord(x):\n",
    "    return 2*spacing*x+spacing"
   ]
  },
  {
   "cell_type": "code",
   "execution_count": 87,
   "id": "a8afb020-8413-4e10-9227-0d99c30bd2ba",
   "metadata": {},
   "outputs": [],
   "source": [
    "with rasterio.open('data/convolvedPopulation.tif') as pop:\n",
    "    popCrs = pop.crs\n",
    "    popTransform = pop.transform\n",
    "    \n",
    "    array = pop.read(1)\n",
    "    popHeight, popWidth = array.shape"
   ]
  },
  {
   "cell_type": "code",
   "execution_count": 88,
   "id": "46c220fe-0b7f-4f88-bbea-bc73631c1701",
   "metadata": {},
   "outputs": [],
   "source": [
    "halfRows = (popHeight+1) // spacing\n",
    "halfColumns = (popWidth+1) // spacing\n",
    "sampleArray = np.full((popHeight, popWidth), False, dtype = bool)\n",
    "\n",
    "for i in range(halfRows):\n",
    "    if i%2 == 0:\n",
    "        for j in range(halfColumns // 2):\n",
    "            if array[spacing*i][2*spacing*j+spacing] >= cutoff:\n",
    "                sampleArray[spacing*i][2*spacing*j+spacing] = True\n",
    "    else:\n",
    "        for j in range(halfColumns - (halfColumns // 2)):\n",
    "            if array[spacing*i][2*spacing*j] >= cutoff:\n",
    "                sampleArray[spacing*i][2*spacing*j] = True"
   ]
  },
  {
   "cell_type": "code",
   "execution_count": 89,
   "id": "b57ae543-ec6c-4865-81d1-790d1287af44",
   "metadata": {},
   "outputs": [],
   "source": [
    "lineArray = np.full((popHeight, popWidth), 0.0)\n",
    "\n",
    "for i in range(halfRows-(halfRows // 2)-1):\n",
    "    for j in range(halfColumns-(halfColumns // 2)-1):\n",
    "        lineArray += drawLines(sampleArray, tileCoord(i), tileCoord(j))"
   ]
  },
  {
   "cell_type": "code",
   "execution_count": 90,
   "id": "702630cc-3077-4186-9056-279ec4fd757f",
   "metadata": {},
   "outputs": [
    {
     "data": {
      "text/plain": [
       "<matplotlib.image.AxesImage at 0x123a20170>"
      ]
     },
     "execution_count": 90,
     "metadata": {},
     "output_type": "execute_result"
    },
    {
     "data": {
      "image/png": "[encoded data removed]",
      "text/plain": [
       "<Figure size 640x480 with 1 Axes>"
      ]
     },
     "metadata": {},
     "output_type": "display_data"
    }
   ],
   "source": [
    "plt.imshow(lineArray)"
   ]
  },
  {
   "cell_type": "code",
   "execution_count": 91,
   "id": "f4089eed-295a-4980-9dc0-a41f40c94503",
   "metadata": {},
   "outputs": [],
   "source": [
    "lineDtype = lineArray.dtype\n",
    "\n",
    "with rasterio.open(\n",
    "    'data/lines.tif', 'w',\n",
    "    driver = 'GTiff',\n",
    "    height = popHeight,\n",
    "    width = popWidth,\n",
    "    count = 1,\n",
    "    crs = popCrs,\n",
    "    transform = popTransform,\n",
    "    dtype = lineDtype\n",
    ") as lines:\n",
    "    lines.write(lineArray, 1)"
   ]
  },
  {
   "cell_type": "code",
   "execution_count": null,
   "id": "599bc93a-491a-4e23-afb9-6f074eda02e7",
   "metadata": {},
   "outputs": [],
   "source": []
  },
  {
   "cell_type": "code",
   "execution_count": null,
   "id": "faef6c50-0a97-4885-b7c6-7dd1883b3848",
   "metadata": {},
   "outputs": [],
   "source": []
  }
 ],
 "metadata": {
  "kernelspec": {
   "display_name": "Python 3 (ipykernel)",
   "language": "python",
   "name": "python3"
  },
  "language_info": {
   "codemirror_mode": {
    "name": "ipython",
    "version": 3
   },
   "file_extension": ".py",
   "mimetype": "text/x-python",
   "name": "python",
   "nbconvert_exporter": "python",
   "pygments_lexer": "ipython3",
   "version": "3.12.2"
  }
 },
 "nbformat": 4,
 "nbformat_minor": 5
}
